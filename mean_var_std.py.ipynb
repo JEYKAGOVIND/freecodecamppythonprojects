{
 "cells": [
  {
   "cell_type": "code",
   "execution_count": 1,
   "id": "99043bf9-2781-4802-a264-eb848103c50b",
   "metadata": {},
   "outputs": [],
   "source": [
    "import numpy as np\n",
    "\n",
    "def calculate(lst):\n",
    "    if len(lst) != 9:\n",
    "        raise ValueError(\"List must contain nine numbers.\")\n",
    "\n",
    "    # reshape list to 3x3 numpy matrix\n",
    "    arr = np.array(lst).reshape(3, 3)\n",
    "\n",
    "    calculations = {\n",
    "        'mean': [\n",
    "            arr.mean(axis=0).tolist(),\n",
    "            arr.mean(axis=1).tolist(),\n",
    "            arr.mean().item()\n",
    "        ],\n",
    "        'variance': [\n",
    "            arr.var(axis=0).tolist(),\n",
    "            arr.var(axis=1).tolist(),\n",
    "            arr.var().item()\n",
    "        ],\n",
    "        'standard deviation': [\n",
    "            arr.std(axis=0).tolist(),\n",
    "            arr.std(axis=1).tolist(),\n",
    "            arr.std().item()\n",
    "        ],\n",
    "        'max': [\n",
    "            arr.max(axis=0).tolist(),\n",
    "            arr.max(axis=1).tolist(),\n",
    "            arr.max().item()\n",
    "        ],\n",
    "        'min': [\n",
    "            arr.min(axis=0).tolist(),\n",
    "            arr.min(axis=1).tolist(),\n",
    "            arr.min().item()\n",
    "        ],\n",
    "        'sum': [\n",
    "            arr.sum(axis=0).tolist(),\n",
    "            arr.sum(axis=1).tolist(),\n",
    "            arr.sum().item()\n",
    "        ],\n",
    "    }\n",
    "\n",
    "    return calculations\n"
   ]
  },
  {
   "cell_type": "code",
   "execution_count": 2,
   "id": "00f800b5-ce7e-4abb-a4a1-96fca603779a",
   "metadata": {},
   "outputs": [
    {
     "name": "stdout",
     "output_type": "stream",
     "text": [
      "{'mean': [[3.0, 4.0, 5.0], [1.0, 4.0, 7.0], 4.0], 'variance': [[6.0, 6.0, 6.0], [0.6666666666666666, 0.6666666666666666, 0.6666666666666666], 6.666666666666667], 'standard deviation': [[2.449489742783178, 2.449489742783178, 2.449489742783178], [0.816496580927726, 0.816496580927726, 0.816496580927726], 2.581988897471611], 'max': [[6, 7, 8], [2, 5, 8], 8], 'min': [[0, 1, 2], [0, 3, 6], 0], 'sum': [[9, 12, 15], [3, 12, 21], 36]}\n"
     ]
    }
   ],
   "source": [
    "print(calculate([0,1,2,3,4,5,6,7,8]))\n"
   ]
  },
  {
   "cell_type": "code",
   "execution_count": null,
   "id": "8842c9f6-ca45-46c7-ac97-3898184b4d61",
   "metadata": {},
   "outputs": [],
   "source": []
  }
 ],
 "metadata": {
  "kernelspec": {
   "display_name": "Python 3 (ipykernel)",
   "language": "python",
   "name": "python3"
  },
  "language_info": {
   "codemirror_mode": {
    "name": "ipython",
    "version": 3
   },
   "file_extension": ".py",
   "mimetype": "text/x-python",
   "name": "python",
   "nbconvert_exporter": "python",
   "pygments_lexer": "ipython3",
   "version": "3.13.2"
  }
 },
 "nbformat": 4,
 "nbformat_minor": 5
}
